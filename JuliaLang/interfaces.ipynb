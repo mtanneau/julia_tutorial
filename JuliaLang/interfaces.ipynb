{
 "cells": [
  {
   "cell_type": "markdown",
   "metadata": {},
   "source": [
    "# Interfacing Julia with other languages"
   ]
  },
  {
   "cell_type": "markdown",
   "metadata": {},
   "source": [
    "Several examples are taken from the \"_Julia is fast_\" (available [here](https://github.com/JuliaComputing/JuliaBoxTutorials/blob/master/introductory-tutorials/intro-to-julia/09.%20Julia%20is%20fast.ipynb))"
   ]
  },
  {
   "cell_type": "markdown",
   "metadata": {},
   "source": [
    "## Calling C and Fortran code\n",
    "\n",
    "https://docs.julialang.org/en/v1/manual/calling-c-and-fortran-code/"
   ]
  },
  {
   "cell_type": "markdown",
   "metadata": {},
   "source": [
    "C functions can be called directly from Julia by using the `ccall` syntax, with little to no overhead.\n",
    "The code must be available as a shared library.\n",
    "\n",
    "Shared libraries and functions are referenced by a tuple of the form `(:function, \"library\")` or `(\"function\", \"library\")`:\n",
    "* `function` is the C-exported function name.\n",
    "* `library` refers to the shared library name: shared libraries available in the (platform-specific) load path will be resolved by name, and if necessary a direct path may be specified."
   ]
  },
  {
   "cell_type": "markdown",
   "metadata": {},
   "source": [
    "First, we write a sample C code that computes sum of an double-valued array."
   ]
  },
  {
   "cell_type": "code",
   "execution_count": 1,
   "metadata": {},
   "outputs": [
    {
     "data": {
      "text/plain": [
       "\"/tmp/juliathZd30\""
      ]
     },
     "execution_count": 1,
     "metadata": {},
     "output_type": "execute_result"
    }
   ],
   "source": [
    "using Libdl\n",
    "const Clib = tempname()   # make a temporary file"
   ]
  },
  {
   "cell_type": "code",
   "execution_count": 2,
   "metadata": {},
   "outputs": [],
   "source": [
    "# Sample C code\n",
    "# This function computes the sum of an array of double\n",
    "C_code = \"\"\"\n",
    "#include <stddef.h>\n",
    "double c_sum(size_t n, double *X) {\n",
    "    double s = 0.0;\n",
    "    for (size_t i = 0; i < n; ++i) {\n",
    "        s += X[i];\n",
    "    }\n",
    "    return s;\n",
    "}\n",
    "\"\"\"\n",
    ";"
   ]
  },
  {
   "cell_type": "code",
   "execution_count": 3,
   "metadata": {
    "collapsed": true
   },
   "outputs": [],
   "source": [
    "# compile to a shared library by piping C_code to gcc\n",
    "# (works only if you have gcc installed):\n",
    "open(`gcc -fPIC -O3 -msse3 -xc -shared -o $(Clib * \".\" * Libdl.dlext) -`, \"w\") do f\n",
    "    print(f, C_code) \n",
    "end"
   ]
  },
  {
   "cell_type": "markdown",
   "metadata": {},
   "source": [
    "You can use `ccall` to actually generate a call to the library function. Arguments to `ccall` are as follows:\n",
    "\n",
    "1. A `(:function, \"library\")` pair, which must be written as a literal constant\n",
    "2. Return type\n",
    "3. A tuple of input types. The input types must be written as a literal tuple, not a tuple-valued variable or expression.\n",
    "4. The following arguments, if any, are the actual argument values passed to the function.\n",
    "\n",
    "This syntax can be heavy to read, to it is common to wrap the C function into a Julia function"
   ]
  },
  {
   "cell_type": "code",
   "execution_count": 4,
   "metadata": {},
   "outputs": [
    {
     "data": {
      "text/plain": [
       "c_sum (generic function with 1 method)"
      ]
     },
     "execution_count": 4,
     "metadata": {},
     "output_type": "execute_result"
    }
   ],
   "source": [
    "# Wrap the C function in a Julia function\n",
    "c_sum(X::Array{Float64}) = ccall(\n",
    "    (\"c_sum\", Clib),          # The C-function's name and the library it comes from\n",
    "    Float64,                  # Return type\n",
    "    (Csize_t, Ptr{Float64}),  # Tuple of input types\n",
    "    length(X), X              # actual arguments\n",
    ")"
   ]
  },
  {
   "cell_type": "code",
   "execution_count": 5,
   "metadata": {},
   "outputs": [
    {
     "data": {
      "text/plain": [
       "10.0"
      ]
     },
     "execution_count": 5,
     "metadata": {},
     "output_type": "execute_result"
    }
   ],
   "source": [
    "u = ones(10)\n",
    "c_sum(u)"
   ]
  },
  {
   "cell_type": "markdown",
   "metadata": {},
   "source": [
    "## Calling Python code from Julia\n",
    "\n",
    "`PyCall` is the default package for calling Python from Julia: https://github.com/JuliaPy/PyCall.jl\n",
    "\n",
    ">  PyCall provides the ability to directly call and fully interoperate with Python from the Julia language.\n",
    "\n",
    "> You can import arbitrary Python modules from Julia, call Python functions (with automatic conversion of types between Julia and Python), define Python classes from Julia methods, and share large data structures between Julia and Python without copying them."
   ]
  },
  {
   "cell_type": "code",
   "execution_count": 6,
   "metadata": {
    "scrolled": true
   },
   "outputs": [],
   "source": [
    "# using Pkg; Pkg.add(\"PyCall\")\n",
    "using PyCall"
   ]
  },
  {
   "cell_type": "code",
   "execution_count": 7,
   "metadata": {},
   "outputs": [
    {
     "data": {
      "text/plain": [
       "10.0"
      ]
     },
     "execution_count": 7,
     "metadata": {},
     "output_type": "execute_result"
    }
   ],
   "source": [
    "py_sum = pybuiltin(\"sum\")  # Python's built-in `sum` function\n",
    "py_sum(u)"
   ]
  },
  {
   "cell_type": "code",
   "execution_count": 8,
   "metadata": {},
   "outputs": [],
   "source": [
    "# using Pkg; Pkg.add(\"Conda\")  # un-comment this line to install Conda\n",
    "using Conda"
   ]
  },
  {
   "cell_type": "code",
   "execution_count": 9,
   "metadata": {
    "collapsed": true
   },
   "outputs": [],
   "source": [
    "# Conda.add(\"numpy\")  # un-comment this line to install numpy"
   ]
  },
  {
   "cell_type": "code",
   "execution_count": 10,
   "metadata": {},
   "outputs": [
    {
     "data": {
      "text/plain": [
       "10.0"
      ]
     },
     "execution_count": 10,
     "metadata": {},
     "output_type": "execute_result"
    }
   ],
   "source": [
    "np_sum = pyimport(\"numpy\")[\"sum\"]  # Numpy's `sum` function, i.e., `numpy.sum`\n",
    "np_sum(u)"
   ]
  },
  {
   "cell_type": "markdown",
   "metadata": {},
   "source": [
    "## Calling other languages (C++, R, Java, etc)"
   ]
  },
  {
   "cell_type": "markdown",
   "metadata": {},
   "source": [
    "* Calling C++ from Julia\n",
    "    * `Cxx` : https://github.com/Keno/Cxx.jl\n",
    "    * `CxxWrap` : https://github.com/JuliaInterop/CxxWrap.jl\n",
    "\n",
    "\n",
    "* Calling Java from Julia: `JavaCall` https://github.com/JuliaInterop/JavaCall.jl\n",
    "\n",
    "\n",
    "* Calling R from Julia: `RCall` https://github.com/JuliaInterop/RCall.jl\n",
    "\n",
    "\n",
    "* Calling other languages from Julia: https://github.com/JuliaInterop"
   ]
  },
  {
   "cell_type": "markdown",
   "metadata": {},
   "source": [
    "# Embedding Julia"
   ]
  },
  {
   "cell_type": "markdown",
   "metadata": {},
   "source": [
    "## The C API"
   ]
  },
  {
   "cell_type": "markdown",
   "metadata": {},
   "source": [
    "## Calling Julia from Python"
   ]
  }
 ],
 "metadata": {
  "kernelspec": {
   "display_name": "Julia 1.0.1",
   "language": "julia",
   "name": "julia-1.0"
  },
  "language_info": {
   "file_extension": ".jl",
   "mimetype": "application/julia",
   "name": "julia",
   "version": "1.0.1"
  }
 },
 "nbformat": 4,
 "nbformat_minor": 2
}
