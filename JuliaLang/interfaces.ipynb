{
 "cells": [
  {
   "cell_type": "markdown",
   "metadata": {
    "slideshow": {
     "slide_type": "slide"
    }
   },
   "source": [
    "# Interfacing Julia with other languages"
   ]
  },
  {
   "cell_type": "markdown",
   "metadata": {
    "slideshow": {
     "slide_type": "-"
    }
   },
   "source": [
    "## Calling other languages from Julia\n",
    "\n",
    "* Native function calls to C and Fortran\n",
    "* Packages for other languages (Python, C++, R, Java...)\n",
    "\n",
    "## Calling Julia from other languages\n",
    "\n",
    "* Embed Julia in a C library\n",
    "* Embedding for some languages (Python, R)\n",
    "* Build binaries from Julia code"
   ]
  },
  {
   "cell_type": "markdown",
   "metadata": {
    "slideshow": {
     "slide_type": "slide"
    }
   },
   "source": [
    "# Calling other languages from Julia"
   ]
  },
  {
   "cell_type": "markdown",
   "metadata": {
    "slideshow": {
     "slide_type": "notes"
    }
   },
   "source": [
    "Several examples are taken from the \"_Julia is fast_\" (available [here](https://github.com/JuliaComputing/JuliaBoxTutorials/blob/master/introductory-tutorials/intro-to-julia/09.%20Julia%20is%20fast.ipynb))"
   ]
  },
  {
   "cell_type": "markdown",
   "metadata": {
    "slideshow": {
     "slide_type": "slide"
    }
   },
   "source": [
    "## Calling C and Fortran code\n",
    "\n",
    "Official documentation: https://docs.julialang.org/en/v1/manual/calling-c-and-fortran-code/"
   ]
  },
  {
   "cell_type": "markdown",
   "metadata": {
    "slideshow": {
     "slide_type": "-"
    }
   },
   "source": [
    "C functions can be called directly from Julia with little to no overhead.\n",
    "The code must be available as a shared library."
   ]
  },
  {
   "cell_type": "markdown",
   "metadata": {
    "slideshow": {
     "slide_type": "notes"
    }
   },
   "source": [
    "Shared libraries and functions are referenced by `(:function, \"library\")`:\n",
    "* `function` is the C-exported function name.\n",
    "* `library` refers to the shared library name"
   ]
  },
  {
   "cell_type": "markdown",
   "metadata": {
    "slideshow": {
     "slide_type": "subslide"
    }
   },
   "source": [
    "Sample C code: compute the sum of an array of `double`"
   ]
  },
  {
   "cell_type": "code",
   "execution_count": 1,
   "metadata": {
    "slideshow": {
     "slide_type": "fragment"
    }
   },
   "outputs": [
    {
     "data": {
      "text/plain": [
       "\"/tmp/juliaWpP7IY\""
      ]
     },
     "execution_count": 1,
     "metadata": {},
     "output_type": "execute_result"
    }
   ],
   "source": [
    "using Libdl\n",
    "const Clib = tempname()   # make a temporary file"
   ]
  },
  {
   "cell_type": "markdown",
   "metadata": {
    "slideshow": {
     "slide_type": "notes"
    }
   },
   "source": [
    "The code below takes an array of `double` as input, and returns the sum of its elements.\n",
    "\n",
    "_Note: the sole purpose of this sample code is to generate a shared library that will be called later on.\n",
    "You do not need to understand C to continue reading_"
   ]
  },
  {
   "cell_type": "code",
   "execution_count": 2,
   "metadata": {
    "collapsed": true,
    "slideshow": {
     "slide_type": "fragment"
    }
   },
   "outputs": [],
   "source": [
    "# Sample C code\n",
    "# This function computes the sum of an array of double\n",
    "C_code = \"\"\"\n",
    "#include <stddef.h>\n",
    "double c_sum(size_t n, double *X) {\n",
    "    double s = 0.0;\n",
    "    for (size_t i = 0; i < n; ++i) {\n",
    "        s += X[i];\n",
    "    }\n",
    "    return s;\n",
    "}\n",
    "\"\"\"\n",
    ";"
   ]
  },
  {
   "cell_type": "code",
   "execution_count": 3,
   "metadata": {
    "slideshow": {
     "slide_type": "fragment"
    }
   },
   "outputs": [],
   "source": [
    "# compile to a shared library by piping C_code to gcc\n",
    "# (works only if you have gcc installed):\n",
    "open(`gcc -fPIC -O3 -msse3 -xc -shared -o $(Clib * \".\" * Libdl.dlext) -`, \"w\") do f\n",
    "    print(f, C_code) \n",
    "end"
   ]
  },
  {
   "cell_type": "markdown",
   "metadata": {
    "slideshow": {
     "slide_type": "notes"
    }
   },
   "source": [
    "You can use `ccall` to actually generate a call to the library function. Arguments to `ccall` are as follows:\n",
    "\n",
    "1. A `(:function, \"library\")` pair, which must be written as a literal constant\n",
    "2. Return type\n",
    "3. A tuple of input types. The input types must be written as a literal tuple, not a tuple-valued variable or expression.\n",
    "4. The following arguments, if any, are the actual argument values passed to the function."
   ]
  },
  {
   "cell_type": "markdown",
   "metadata": {
    "slideshow": {
     "slide_type": "subslide"
    }
   },
   "source": [
    "Calling a C function is done using `ccall`.\n",
    "\n",
    "The `ccall` syntax can be heavy to read, so it is common to wrap the C function into a Julia function."
   ]
  },
  {
   "cell_type": "code",
   "execution_count": 4,
   "metadata": {
    "slideshow": {
     "slide_type": "fragment"
    }
   },
   "outputs": [
    {
     "data": {
      "text/plain": [
       "c_sum (generic function with 1 method)"
      ]
     },
     "execution_count": 4,
     "metadata": {},
     "output_type": "execute_result"
    }
   ],
   "source": [
    "# Wrap the C function in a Julia function\n",
    "c_sum(X::Array{Float64}) = ccall(\n",
    "    (\"c_sum\", Clib),          # The C-function's name and the library it comes from\n",
    "    Float64,                  # Return type\n",
    "    (Csize_t, Ptr{Float64}),  # Tuple of input types\n",
    "    length(X), X              # actual arguments\n",
    ")"
   ]
  },
  {
   "cell_type": "code",
   "execution_count": 5,
   "metadata": {
    "slideshow": {
     "slide_type": "fragment"
    }
   },
   "outputs": [
    {
     "data": {
      "text/plain": [
       "10.0"
      ]
     },
     "execution_count": 5,
     "metadata": {},
     "output_type": "execute_result"
    }
   ],
   "source": [
    "u = ones(10)\n",
    "c_sum(u)"
   ]
  },
  {
   "cell_type": "markdown",
   "metadata": {
    "slideshow": {
     "slide_type": "slide"
    }
   },
   "source": [
    "## Calling Python from Julia\n",
    "\n",
    "`PyCall` is the default package for calling Python from Julia: https://github.com/JuliaPy/PyCall.jl\n",
    "\n",
    ">  PyCall provides the ability to directly call and fully interoperate with Python from the Julia language.\n",
    "\n",
    "> You can import arbitrary Python modules from Julia, call Python functions (with automatic conversion of types between Julia and Python), define Python classes from Julia methods, and share large data structures between Julia and Python without copying them."
   ]
  },
  {
   "cell_type": "markdown",
   "metadata": {
    "slideshow": {
     "slide_type": "subslide"
    }
   },
   "source": [
    "Built-in Python functions can be imported directly"
   ]
  },
  {
   "cell_type": "code",
   "execution_count": 6,
   "metadata": {
    "collapsed": true,
    "scrolled": true,
    "slideshow": {
     "slide_type": "-"
    }
   },
   "outputs": [],
   "source": [
    "# using Pkg; Pkg.add(\"PyCall\")\n",
    "using PyCall"
   ]
  },
  {
   "cell_type": "code",
   "execution_count": 7,
   "metadata": {
    "slideshow": {
     "slide_type": "-"
    }
   },
   "outputs": [
    {
     "data": {
      "text/plain": [
       "10.0"
      ]
     },
     "execution_count": 7,
     "metadata": {},
     "output_type": "execute_result"
    }
   ],
   "source": [
    "py_sum = pybuiltin(\"sum\")  # Python's built-in `sum` function\n",
    "py_sum(u)"
   ]
  },
  {
   "cell_type": "markdown",
   "metadata": {
    "slideshow": {
     "slide_type": "subslide"
    }
   },
   "source": [
    "You can also import functions from a Python package, e.g. `numpy`"
   ]
  },
  {
   "cell_type": "code",
   "execution_count": 8,
   "metadata": {
    "collapsed": true,
    "slideshow": {
     "slide_type": "-"
    }
   },
   "outputs": [],
   "source": [
    "# using Pkg; Pkg.add(\"Conda\")  # un-comment this line to install Conda\n",
    "using Conda"
   ]
  },
  {
   "cell_type": "code",
   "execution_count": 9,
   "metadata": {
    "collapsed": true,
    "slideshow": {
     "slide_type": "-"
    }
   },
   "outputs": [],
   "source": [
    "# Conda.add(\"numpy\")  # un-comment this line to install numpy"
   ]
  },
  {
   "cell_type": "code",
   "execution_count": 10,
   "metadata": {
    "slideshow": {
     "slide_type": "-"
    }
   },
   "outputs": [
    {
     "data": {
      "text/plain": [
       "10.0"
      ]
     },
     "execution_count": 10,
     "metadata": {},
     "output_type": "execute_result"
    }
   ],
   "source": [
    "np_sum = pyimport(\"numpy\")[\"sum\"]  # Numpy's `sum` function, i.e., `numpy.sum`\n",
    "np_sum(u)"
   ]
  },
  {
   "cell_type": "markdown",
   "metadata": {
    "slideshow": {
     "slide_type": "slide"
    }
   },
   "source": [
    "## Other languages (C++, R, Java, etc)"
   ]
  },
  {
   "cell_type": "markdown",
   "metadata": {
    "slideshow": {
     "slide_type": "-"
    }
   },
   "source": [
    "### Calling C++ from Julia\n",
    "* `Cxx` : https://github.com/Keno/Cxx.jl\n",
    "* `CxxWrap` : https://github.com/JuliaInterop/CxxWrap.jl\n",
    "\n",
    "\n",
    "### Calling Java from Julia\n",
    "\n",
    "`JavaCall` https://github.com/JuliaInterop/JavaCall.jl\n",
    "\n",
    "\n",
    "### Calling R from Julia\n",
    "\n",
    "`RCall` https://github.com/JuliaInterop/RCall.jl\n",
    "\n",
    "\n",
    "### Calling other languages from Julia\n",
    "\n",
    "https://github.com/JuliaInterop, or use a C API"
   ]
  },
  {
   "cell_type": "markdown",
   "metadata": {
    "slideshow": {
     "slide_type": "slide"
    }
   },
   "source": [
    "# Embedding Julia"
   ]
  },
  {
   "cell_type": "markdown",
   "metadata": {
    "slideshow": {
     "slide_type": "subslide"
    }
   },
   "source": [
    "## The C API\n",
    "\n",
    "The following example is taken from https://docs.julialang.org/en/v1/manual/embedding/"
   ]
  },
  {
   "cell_type": "markdown",
   "metadata": {
    "slideshow": {
     "slide_type": "-"
    }
   },
   "source": [
    "```c\n",
    "#include <julia.h>\n",
    "JULIA_DEFINE_FAST_TLS() // only define this once, in an executable (not in a shared library) if you want fast code\n",
    "\n",
    "int main(int argc, char *argv[])\n",
    "{\n",
    "    /* required: setup the Julia context */\n",
    "    jl_init();\n",
    "\n",
    "    /* run Julia commands */\n",
    "    jl_eval_string(\"print(sqrt(2.0))\");\n",
    "\n",
    "    /* strongly recommended: notify Julia that the\n",
    "         program is about to terminate. this allows\n",
    "         Julia time to cleanup pending write requests\n",
    "         and run all finalizers\n",
    "    */\n",
    "    jl_atexit_hook(0);\n",
    "    return 0;\n",
    "}\n",
    "```"
   ]
  },
  {
   "cell_type": "markdown",
   "metadata": {
    "slideshow": {
     "slide_type": "subslide"
    }
   },
   "source": [
    "## Calling Julia from Python"
   ]
  },
  {
   "cell_type": "markdown",
   "metadata": {
    "slideshow": {
     "slide_type": "-"
    }
   },
   "source": [
    "Install `PyJulia`: https://github.com/JuliaPy/pyjulia"
   ]
  },
  {
   "cell_type": "markdown",
   "metadata": {
    "slideshow": {
     "slide_type": "-"
    }
   },
   "source": [
    "You can import and call julia functions directly in Python"
   ]
  },
  {
   "cell_type": "markdown",
   "metadata": {
    "slideshow": {
     "slide_type": "-"
    }
   },
   "source": [
    "```py\n",
    ">>> from julia import Base  # import julia's Base\n",
    "\n",
    ">>> Base.cos(1.0)           # call julia functions as usual\n",
    "0.5403023058681398\n",
    "```"
   ]
  },
  {
   "cell_type": "markdown",
   "metadata": {
    "slideshow": {
     "slide_type": "subslide"
    }
   },
   "source": [
    "## Other languages"
   ]
  },
  {
   "cell_type": "markdown",
   "metadata": {
    "slideshow": {
     "slide_type": "-"
    }
   },
   "source": [
    "### Using the C API\n",
    "\n",
    "Build a C library from your Julia code, then call that library.\n",
    "\n",
    "### Specific interfaces\n",
    "\n",
    "* R: JuliaCall\n",
    "\n",
    "### Building binaries\n",
    "(ongoing) `PackageCompiler` https://github.com/JuliaLang/PackageCompiler.jl"
   ]
  }
 ],
 "metadata": {
  "kernelspec": {
   "display_name": "Julia 1.0.1",
   "language": "julia",
   "name": "julia-1.0"
  },
  "language_info": {
   "file_extension": ".jl",
   "mimetype": "application/julia",
   "name": "julia",
   "version": "1.0.1"
  }
 },
 "nbformat": 4,
 "nbformat_minor": 2
}
